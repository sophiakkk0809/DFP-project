{
 "cells": [
  {
   "cell_type": "code",
   "execution_count": 3,
   "id": "bb3d64a2-8bd8-4156-8b37-85d863cee6c6",
   "metadata": {
    "tags": []
   },
   "outputs": [],
   "source": [
    "# import Selenium module & other modules\n",
    "from selenium import webdriver\n",
    "from selenium.webdriver.common.by import By\n",
    "from selenium.webdriver.support.ui import WebDriverWait\n",
    "from selenium.webdriver.support import expected_conditions as EC\n",
    "from selenium.webdriver.common.action_chains import ActionChains\n",
    "from selenium.common.exceptions import StaleElementReferenceException\n",
    "from selenium.common.exceptions import ElementClickInterceptedException\n",
    "from selenium.common.exceptions import ElementNotInteractableException\n",
    "from selenium.common.exceptions import NoSuchElementException\n",
    "from selenium.webdriver.chrome.service import Service\n",
    "from selenium.webdriver.chrome.options import Options\n",
    "from html import unescape\n",
    "from bs4 import BeautifulSoup\n",
    "import requests\n",
    "import time\n",
    "import re\n",
    "import pandas as pd"
   ]
  },
  {
   "cell_type": "code",
   "execution_count": 4,
   "id": "e937ef09-b5e7-4236-994c-0d1f7c8adcaf",
   "metadata": {
    "tags": []
   },
   "outputs": [],
   "source": [
    "# open ALDI website\n",
    "options = Options()\n",
    "options.page_load_strategy = 'normal'\n",
    "#options.add_experimental_option(\"detach\", True)\n",
    "#options.add_argument(\"--incognito\")\n",
    "driver = webdriver.Chrome(options=options)\n",
    "driver.get(\"https://new.aldi.us/\")\n",
    "\n",
    "#driver.implicitly_wait(3) \n",
    "#object of ActionChains\n",
    "a = ActionChains(driver)\n",
    "driver.set_window_size(880, 1080)"
   ]
  },
  {
   "cell_type": "code",
   "execution_count": 5,
   "id": "c3ff7834-f6a4-4a58-a124-35ce4682e443",
   "metadata": {
    "tags": []
   },
   "outputs": [],
   "source": [
    "# get all the Categories & Subcategory name\n",
    "driver.get(\"https://new.aldi.us/\")\n",
    "driver.find_element(By.CLASS_NAME, \"base-page-header__burger-icon\").click()\n",
    "WebDriverWait(driver, 20).until(EC.element_to_be_clickable((By.XPATH, \"//button[contains(@class, 'linklist-item flyout-submenu__item linklist-item--standard')]//*[contains(.,'Products')]/..\"))).click()\n",
    "\n",
    "Cat_subcat_list = []\n",
    "Cat_subcat_url_list = []\n",
    "Cat = [my_elem.get_attribute(\"innerHTML\") for my_elem in WebDriverWait(driver, 20).until(EC.visibility_of_all_elements_located((By.XPATH, \"//div[@class='base-bordered-list__content']//span[@class='linklist-item__text']\")))]\n",
    "Cat_name = [unescape(i).strip() for i in Cat]\n",
    "Cat_url = ['-'.join(unescape(i).strip().replace('&', '').lower().split()) for i in Cat]\n",
    "Cat_dict = {Cat_name[i]:Cat_url[i] for i in range(len(Cat_name))}\n",
    "\n",
    "for cat_name,cat_url in Cat_dict.items():\n",
    "    xpath_subcat = \"//button[contains(@class, 'linklist-item flyout-submenu__item linklist-item--standard')]//*[contains(.,'\"+cat_name+\"')]/..\"\n",
    "    button = driver.find_element(By.XPATH,xpath_subcat)\n",
    "    button.click()\n",
    "    Subcat = [my_elem.text for my_elem in driver.find_elements(By.XPATH, \"//div[@class='base-bordered-list__content']//div[@class='linklist-item__text']\") if my_elem.text!='']\n",
    "    Subcat_url = ['-'.join(i.replace('&', '').replace(',','').lower().split()) for i in Subcat]\n",
    "    Subcat_dict = {Subcat[i]:Subcat_url[i] for i in range(len(Subcat))}\n",
    "    Cat_subcat_list.append({cat_name:Subcat})\n",
    "    Cat_subcat_url_list.append({cat_url:Subcat_url})\n",
    "    driver.find_element(By.XPATH, \"//div[@class='base-flyout__sub-navi-headline']//span[@class='base-icon color--black']\").click()\n",
    "\n",
    "\n",
    "driver.find_element(By.XPATH, \"//button[contains(@class, 'base-flyout__close')]\").click()"
   ]
  },
  {
   "cell_type": "code",
   "execution_count": 6,
   "id": "74441be6-42ff-4d67-ad73-91a7c405803b",
   "metadata": {
    "tags": []
   },
   "outputs": [],
   "source": [
    "def get_pages_and_product_count():\n",
    "    WebDriverWait(driver, 10, poll_frequency=0.5, ignored_exceptions=None)\n",
    "    product_count = driver.find_element(By.XPATH,\"//div[contains(@class, 'product-listing-viewer__headline')]//span[@class='base-heading__post']\").text\n",
    "    #product_count = driver.find_element(By.XPATH, \"//div[contains(@class, 'base-heading base-heading--h2 product-listing-viewer__headline')]//span[@class='base-heading__post']\").text\n",
    "    if product_count!='': product_count=int(re.sub(r'[^\\d]+', '', product_count))\n",
    "    \n",
    "    if product_count>24:\n",
    "        a = [my_elem.get_attribute(\"innerHTML\") for my_elem in WebDriverWait(driver, 20).until(EC.visibility_of_all_elements_located((By.XPATH, \"//a[@class='base-pagination__count']\")))]\n",
    "        max_page = int(a[-1].strip())\n",
    "    else: max_page=1\n",
    "\n",
    "    return max_page ,product_count"
   ]
  },
  {
   "cell_type": "code",
   "execution_count": 8,
   "id": "277a8741-ea77-4df0-8a15-412e8eac072f",
   "metadata": {
    "tags": []
   },
   "outputs": [
    {
     "name": "stdout",
     "output_type": "stream",
     "text": [
      "milk-milk-substitutes 2 48\n",
      "24\n",
      "24\n"
     ]
    },
    {
     "name": "stderr",
     "output_type": "stream",
     "text": [
      "/var/folders/_7/j6gsg7kd1vxgq31_w637bnh00000gn/T/ipykernel_48078/893620319.py:76: FutureWarning: Could not cast to float64, falling back to object. This behavior is deprecated. In a future version, when a dtype is passed to 'DataFrame', either all columns will be cast to that dtype, or a TypeError will be raised.\n",
      "  Subcat_list.append(pd.DataFrame(lst, columns =['Subcategory','Product Name', 'Brand', 'price'], dtype = float))\n"
     ]
    },
    {
     "name": "stdout",
     "output_type": "stream",
     "text": [
      "eggs 1 7\n",
      "7\n"
     ]
    },
    {
     "name": "stderr",
     "output_type": "stream",
     "text": [
      "/var/folders/_7/j6gsg7kd1vxgq31_w637bnh00000gn/T/ipykernel_48078/893620319.py:76: FutureWarning: Could not cast to float64, falling back to object. This behavior is deprecated. In a future version, when a dtype is passed to 'DataFrame', either all columns will be cast to that dtype, or a TypeError will be raised.\n",
      "  Subcat_list.append(pd.DataFrame(lst, columns =['Subcategory','Product Name', 'Brand', 'price'], dtype = float))\n"
     ]
    },
    {
     "name": "stdout",
     "output_type": "stream",
     "text": [
      "cheese 9 210\n",
      "24\n",
      "24\n",
      "24\n",
      "24\n",
      "24\n",
      "24\n",
      "24\n",
      "24\n",
      "18\n"
     ]
    },
    {
     "name": "stderr",
     "output_type": "stream",
     "text": [
      "/var/folders/_7/j6gsg7kd1vxgq31_w637bnh00000gn/T/ipykernel_48078/893620319.py:76: FutureWarning: Could not cast to float64, falling back to object. This behavior is deprecated. In a future version, when a dtype is passed to 'DataFrame', either all columns will be cast to that dtype, or a TypeError will be raised.\n",
      "  Subcat_list.append(pd.DataFrame(lst, columns =['Subcategory','Product Name', 'Brand', 'price'], dtype = float))\n"
     ]
    },
    {
     "name": "stdout",
     "output_type": "stream",
     "text": [
      "butter 1 20\n",
      "20\n"
     ]
    },
    {
     "name": "stderr",
     "output_type": "stream",
     "text": [
      "/var/folders/_7/j6gsg7kd1vxgq31_w637bnh00000gn/T/ipykernel_48078/893620319.py:76: FutureWarning: Could not cast to float64, falling back to object. This behavior is deprecated. In a future version, when a dtype is passed to 'DataFrame', either all columns will be cast to that dtype, or a TypeError will be raised.\n",
      "  Subcat_list.append(pd.DataFrame(lst, columns =['Subcategory','Product Name', 'Brand', 'price'], dtype = float))\n"
     ]
    },
    {
     "name": "stdout",
     "output_type": "stream",
     "text": [
      "yogurt-sour-cream 3 62\n",
      "24\n",
      "24\n",
      "14\n"
     ]
    },
    {
     "name": "stderr",
     "output_type": "stream",
     "text": [
      "/var/folders/_7/j6gsg7kd1vxgq31_w637bnh00000gn/T/ipykernel_48078/893620319.py:76: FutureWarning: Could not cast to float64, falling back to object. This behavior is deprecated. In a future version, when a dtype is passed to 'DataFrame', either all columns will be cast to that dtype, or a TypeError will be raised.\n",
      "  Subcat_list.append(pd.DataFrame(lst, columns =['Subcategory','Product Name', 'Brand', 'price'], dtype = float))\n"
     ]
    },
    {
     "name": "stdout",
     "output_type": "stream",
     "text": [
      "coffee-creamer 1 13\n",
      "13\n"
     ]
    },
    {
     "name": "stderr",
     "output_type": "stream",
     "text": [
      "/var/folders/_7/j6gsg7kd1vxgq31_w637bnh00000gn/T/ipykernel_48078/893620319.py:76: FutureWarning: Could not cast to float64, falling back to object. This behavior is deprecated. In a future version, when a dtype is passed to 'DataFrame', either all columns will be cast to that dtype, or a TypeError will be raised.\n",
      "  Subcat_list.append(pd.DataFrame(lst, columns =['Subcategory','Product Name', 'Brand', 'price'], dtype = float))\n"
     ]
    },
    {
     "name": "stdout",
     "output_type": "stream",
     "text": [
      "fresh-fruit 3 56\n",
      "24\n",
      "24\n",
      "8\n"
     ]
    },
    {
     "name": "stderr",
     "output_type": "stream",
     "text": [
      "/var/folders/_7/j6gsg7kd1vxgq31_w637bnh00000gn/T/ipykernel_48078/893620319.py:76: FutureWarning: Could not cast to float64, falling back to object. This behavior is deprecated. In a future version, when a dtype is passed to 'DataFrame', either all columns will be cast to that dtype, or a TypeError will be raised.\n",
      "  Subcat_list.append(pd.DataFrame(lst, columns =['Subcategory','Product Name', 'Brand', 'price'], dtype = float))\n"
     ]
    },
    {
     "name": "stdout",
     "output_type": "stream",
     "text": [
      "fresh-vegetables 3 70\n",
      "24\n",
      "24\n",
      "22\n"
     ]
    },
    {
     "name": "stderr",
     "output_type": "stream",
     "text": [
      "/var/folders/_7/j6gsg7kd1vxgq31_w637bnh00000gn/T/ipykernel_48078/893620319.py:76: FutureWarning: Could not cast to float64, falling back to object. This behavior is deprecated. In a future version, when a dtype is passed to 'DataFrame', either all columns will be cast to that dtype, or a TypeError will be raised.\n",
      "  Subcat_list.append(pd.DataFrame(lst, columns =['Subcategory','Product Name', 'Brand', 'price'], dtype = float))\n"
     ]
    },
    {
     "name": "stdout",
     "output_type": "stream",
     "text": [
      "salad-kits 2 30\n",
      "24\n",
      "6\n"
     ]
    },
    {
     "name": "stderr",
     "output_type": "stream",
     "text": [
      "/var/folders/_7/j6gsg7kd1vxgq31_w637bnh00000gn/T/ipykernel_48078/893620319.py:76: FutureWarning: Could not cast to float64, falling back to object. This behavior is deprecated. In a future version, when a dtype is passed to 'DataFrame', either all columns will be cast to that dtype, or a TypeError will be raised.\n",
      "  Subcat_list.append(pd.DataFrame(lst, columns =['Subcategory','Product Name', 'Brand', 'price'], dtype = float))\n"
     ]
    },
    {
     "name": "stdout",
     "output_type": "stream",
     "text": [
      "flowers-and-plants 2 36\n",
      "24\n",
      "12\n"
     ]
    },
    {
     "name": "stderr",
     "output_type": "stream",
     "text": [
      "/var/folders/_7/j6gsg7kd1vxgq31_w637bnh00000gn/T/ipykernel_48078/893620319.py:76: FutureWarning: Could not cast to float64, falling back to object. This behavior is deprecated. In a future version, when a dtype is passed to 'DataFrame', either all columns will be cast to that dtype, or a TypeError will be raised.\n",
      "  Subcat_list.append(pd.DataFrame(lst, columns =['Subcategory','Product Name', 'Brand', 'price'], dtype = float))\n"
     ]
    },
    {
     "name": "stdout",
     "output_type": "stream",
     "text": [
      "fresh-beef 2 47\n",
      "24\n",
      "23\n"
     ]
    },
    {
     "name": "stderr",
     "output_type": "stream",
     "text": [
      "/var/folders/_7/j6gsg7kd1vxgq31_w637bnh00000gn/T/ipykernel_48078/893620319.py:76: FutureWarning: Could not cast to float64, falling back to object. This behavior is deprecated. In a future version, when a dtype is passed to 'DataFrame', either all columns will be cast to that dtype, or a TypeError will be raised.\n",
      "  Subcat_list.append(pd.DataFrame(lst, columns =['Subcategory','Product Name', 'Brand', 'price'], dtype = float))\n"
     ]
    },
    {
     "name": "stdout",
     "output_type": "stream",
     "text": [
      "fresh-poultry 2 45\n",
      "24\n",
      "21\n"
     ]
    },
    {
     "name": "stderr",
     "output_type": "stream",
     "text": [
      "/var/folders/_7/j6gsg7kd1vxgq31_w637bnh00000gn/T/ipykernel_48078/893620319.py:76: FutureWarning: Could not cast to float64, falling back to object. This behavior is deprecated. In a future version, when a dtype is passed to 'DataFrame', either all columns will be cast to that dtype, or a TypeError will be raised.\n",
      "  Subcat_list.append(pd.DataFrame(lst, columns =['Subcategory','Product Name', 'Brand', 'price'], dtype = float))\n"
     ]
    },
    {
     "name": "stdout",
     "output_type": "stream",
     "text": [
      "fresh-pork 2 26\n",
      "24\n",
      "2\n"
     ]
    },
    {
     "name": "stderr",
     "output_type": "stream",
     "text": [
      "/var/folders/_7/j6gsg7kd1vxgq31_w637bnh00000gn/T/ipykernel_48078/893620319.py:76: FutureWarning: Could not cast to float64, falling back to object. This behavior is deprecated. In a future version, when a dtype is passed to 'DataFrame', either all columns will be cast to that dtype, or a TypeError will be raised.\n",
      "  Subcat_list.append(pd.DataFrame(lst, columns =['Subcategory','Product Name', 'Brand', 'price'], dtype = float))\n"
     ]
    },
    {
     "name": "stdout",
     "output_type": "stream",
     "text": [
      "fresh-sausage 2 32\n",
      "24\n",
      "8\n"
     ]
    },
    {
     "name": "stderr",
     "output_type": "stream",
     "text": [
      "/var/folders/_7/j6gsg7kd1vxgq31_w637bnh00000gn/T/ipykernel_48078/893620319.py:76: FutureWarning: Could not cast to float64, falling back to object. This behavior is deprecated. In a future version, when a dtype is passed to 'DataFrame', either all columns will be cast to that dtype, or a TypeError will be raised.\n",
      "  Subcat_list.append(pd.DataFrame(lst, columns =['Subcategory','Product Name', 'Brand', 'price'], dtype = float))\n"
     ]
    },
    {
     "name": "stdout",
     "output_type": "stream",
     "text": [
      "fresh-seafood 1 11\n",
      "11\n"
     ]
    },
    {
     "name": "stderr",
     "output_type": "stream",
     "text": [
      "/var/folders/_7/j6gsg7kd1vxgq31_w637bnh00000gn/T/ipykernel_48078/893620319.py:76: FutureWarning: Could not cast to float64, falling back to object. This behavior is deprecated. In a future version, when a dtype is passed to 'DataFrame', either all columns will be cast to that dtype, or a TypeError will be raised.\n",
      "  Subcat_list.append(pd.DataFrame(lst, columns =['Subcategory','Product Name', 'Brand', 'price'], dtype = float))\n"
     ]
    },
    {
     "name": "stdout",
     "output_type": "stream",
     "text": [
      "other-meat-plant-based-proteins 1 5\n",
      "5\n"
     ]
    },
    {
     "name": "stderr",
     "output_type": "stream",
     "text": [
      "/var/folders/_7/j6gsg7kd1vxgq31_w637bnh00000gn/T/ipykernel_48078/893620319.py:76: FutureWarning: Could not cast to float64, falling back to object. This behavior is deprecated. In a future version, when a dtype is passed to 'DataFrame', either all columns will be cast to that dtype, or a TypeError will be raised.\n",
      "  Subcat_list.append(pd.DataFrame(lst, columns =['Subcategory','Product Name', 'Brand', 'price'], dtype = float))\n"
     ]
    },
    {
     "name": "stdout",
     "output_type": "stream",
     "text": [
      "deli-meat 3 60\n",
      "24\n",
      "24\n",
      "12\n"
     ]
    },
    {
     "name": "stderr",
     "output_type": "stream",
     "text": [
      "/var/folders/_7/j6gsg7kd1vxgq31_w637bnh00000gn/T/ipykernel_48078/893620319.py:76: FutureWarning: Could not cast to float64, falling back to object. This behavior is deprecated. In a future version, when a dtype is passed to 'DataFrame', either all columns will be cast to that dtype, or a TypeError will be raised.\n",
      "  Subcat_list.append(pd.DataFrame(lst, columns =['Subcategory','Product Name', 'Brand', 'price'], dtype = float))\n"
     ]
    },
    {
     "name": "stdout",
     "output_type": "stream",
     "text": [
      "lunch-meat 2 37\n",
      "24\n",
      "13\n"
     ]
    },
    {
     "name": "stderr",
     "output_type": "stream",
     "text": [
      "/var/folders/_7/j6gsg7kd1vxgq31_w637bnh00000gn/T/ipykernel_48078/893620319.py:76: FutureWarning: Could not cast to float64, falling back to object. This behavior is deprecated. In a future version, when a dtype is passed to 'DataFrame', either all columns will be cast to that dtype, or a TypeError will be raised.\n",
      "  Subcat_list.append(pd.DataFrame(lst, columns =['Subcategory','Product Name', 'Brand', 'price'], dtype = float))\n"
     ]
    },
    {
     "name": "stdout",
     "output_type": "stream",
     "text": [
      "dips-hummus 2 43\n",
      "24\n",
      "19\n"
     ]
    },
    {
     "name": "stderr",
     "output_type": "stream",
     "text": [
      "/var/folders/_7/j6gsg7kd1vxgq31_w637bnh00000gn/T/ipykernel_48078/893620319.py:76: FutureWarning: Could not cast to float64, falling back to object. This behavior is deprecated. In a future version, when a dtype is passed to 'DataFrame', either all columns will be cast to that dtype, or a TypeError will be raised.\n",
      "  Subcat_list.append(pd.DataFrame(lst, columns =['Subcategory','Product Name', 'Brand', 'price'], dtype = float))\n"
     ]
    },
    {
     "name": "stdout",
     "output_type": "stream",
     "text": [
      "prepared-meals-sides 3 67\n",
      "24\n",
      "24\n",
      "19\n"
     ]
    },
    {
     "name": "stderr",
     "output_type": "stream",
     "text": [
      "/var/folders/_7/j6gsg7kd1vxgq31_w637bnh00000gn/T/ipykernel_48078/893620319.py:76: FutureWarning: Could not cast to float64, falling back to object. This behavior is deprecated. In a future version, when a dtype is passed to 'DataFrame', either all columns will be cast to that dtype, or a TypeError will be raised.\n",
      "  Subcat_list.append(pd.DataFrame(lst, columns =['Subcategory','Product Name', 'Brand', 'price'], dtype = float))\n"
     ]
    },
    {
     "name": "stdout",
     "output_type": "stream",
     "text": [
      "take-bake 1 19\n",
      "19\n"
     ]
    },
    {
     "name": "stderr",
     "output_type": "stream",
     "text": [
      "/var/folders/_7/j6gsg7kd1vxgq31_w637bnh00000gn/T/ipykernel_48078/893620319.py:76: FutureWarning: Could not cast to float64, falling back to object. This behavior is deprecated. In a future version, when a dtype is passed to 'DataFrame', either all columns will be cast to that dtype, or a TypeError will be raised.\n",
      "  Subcat_list.append(pd.DataFrame(lst, columns =['Subcategory','Product Name', 'Brand', 'price'], dtype = float))\n"
     ]
    },
    {
     "name": "stdout",
     "output_type": "stream",
     "text": [
      "frozen-meat-poultry-seafood 5 99\n",
      "24\n",
      "24\n",
      "24\n",
      "24\n",
      "3\n"
     ]
    },
    {
     "name": "stderr",
     "output_type": "stream",
     "text": [
      "/var/folders/_7/j6gsg7kd1vxgq31_w637bnh00000gn/T/ipykernel_48078/893620319.py:76: FutureWarning: Could not cast to float64, falling back to object. This behavior is deprecated. In a future version, when a dtype is passed to 'DataFrame', either all columns will be cast to that dtype, or a TypeError will be raised.\n",
      "  Subcat_list.append(pd.DataFrame(lst, columns =['Subcategory','Product Name', 'Brand', 'price'], dtype = float))\n"
     ]
    },
    {
     "name": "stdout",
     "output_type": "stream",
     "text": [
      "frozen-vegetables 3 66\n",
      "24\n",
      "24\n",
      "18\n"
     ]
    },
    {
     "name": "stderr",
     "output_type": "stream",
     "text": [
      "/var/folders/_7/j6gsg7kd1vxgq31_w637bnh00000gn/T/ipykernel_48078/893620319.py:76: FutureWarning: Could not cast to float64, falling back to object. This behavior is deprecated. In a future version, when a dtype is passed to 'DataFrame', either all columns will be cast to that dtype, or a TypeError will be raised.\n",
      "  Subcat_list.append(pd.DataFrame(lst, columns =['Subcategory','Product Name', 'Brand', 'price'], dtype = float))\n"
     ]
    },
    {
     "name": "stdout",
     "output_type": "stream",
     "text": [
      "frozen-ice-cream-desserts 4 88\n",
      "24\n",
      "24\n",
      "24\n",
      "16\n"
     ]
    },
    {
     "name": "stderr",
     "output_type": "stream",
     "text": [
      "/var/folders/_7/j6gsg7kd1vxgq31_w637bnh00000gn/T/ipykernel_48078/893620319.py:76: FutureWarning: Could not cast to float64, falling back to object. This behavior is deprecated. In a future version, when a dtype is passed to 'DataFrame', either all columns will be cast to that dtype, or a TypeError will be raised.\n",
      "  Subcat_list.append(pd.DataFrame(lst, columns =['Subcategory','Product Name', 'Brand', 'price'], dtype = float))\n"
     ]
    },
    {
     "name": "stdout",
     "output_type": "stream",
     "text": [
      "frozen-fruit 1 12\n",
      "12\n"
     ]
    },
    {
     "name": "stderr",
     "output_type": "stream",
     "text": [
      "/var/folders/_7/j6gsg7kd1vxgq31_w637bnh00000gn/T/ipykernel_48078/893620319.py:76: FutureWarning: Could not cast to float64, falling back to object. This behavior is deprecated. In a future version, when a dtype is passed to 'DataFrame', either all columns will be cast to that dtype, or a TypeError will be raised.\n",
      "  Subcat_list.append(pd.DataFrame(lst, columns =['Subcategory','Product Name', 'Brand', 'price'], dtype = float))\n"
     ]
    },
    {
     "name": "stdout",
     "output_type": "stream",
     "text": [
      "frozen-breakfast 1 22\n",
      "22\n"
     ]
    },
    {
     "name": "stderr",
     "output_type": "stream",
     "text": [
      "/var/folders/_7/j6gsg7kd1vxgq31_w637bnh00000gn/T/ipykernel_48078/893620319.py:76: FutureWarning: Could not cast to float64, falling back to object. This behavior is deprecated. In a future version, when a dtype is passed to 'DataFrame', either all columns will be cast to that dtype, or a TypeError will be raised.\n",
      "  Subcat_list.append(pd.DataFrame(lst, columns =['Subcategory','Product Name', 'Brand', 'price'], dtype = float))\n"
     ]
    },
    {
     "name": "stdout",
     "output_type": "stream",
     "text": [
      "frozen-meals-sides 3 52\n",
      "24\n",
      "24\n",
      "4\n"
     ]
    },
    {
     "name": "stderr",
     "output_type": "stream",
     "text": [
      "/var/folders/_7/j6gsg7kd1vxgq31_w637bnh00000gn/T/ipykernel_48078/893620319.py:76: FutureWarning: Could not cast to float64, falling back to object. This behavior is deprecated. In a future version, when a dtype is passed to 'DataFrame', either all columns will be cast to that dtype, or a TypeError will be raised.\n",
      "  Subcat_list.append(pd.DataFrame(lst, columns =['Subcategory','Product Name', 'Brand', 'price'], dtype = float))\n"
     ]
    },
    {
     "name": "stdout",
     "output_type": "stream",
     "text": [
      "frozen-appetizers-snacks 2 38\n",
      "24\n",
      "14\n"
     ]
    },
    {
     "name": "stderr",
     "output_type": "stream",
     "text": [
      "/var/folders/_7/j6gsg7kd1vxgq31_w637bnh00000gn/T/ipykernel_48078/893620319.py:76: FutureWarning: Could not cast to float64, falling back to object. This behavior is deprecated. In a future version, when a dtype is passed to 'DataFrame', either all columns will be cast to that dtype, or a TypeError will be raised.\n",
      "  Subcat_list.append(pd.DataFrame(lst, columns =['Subcategory','Product Name', 'Brand', 'price'], dtype = float))\n"
     ]
    },
    {
     "name": "stdout",
     "output_type": "stream",
     "text": [
      "frozen-pizza 2 41\n",
      "24\n",
      "17\n"
     ]
    },
    {
     "name": "stderr",
     "output_type": "stream",
     "text": [
      "/var/folders/_7/j6gsg7kd1vxgq31_w637bnh00000gn/T/ipykernel_48078/893620319.py:76: FutureWarning: Could not cast to float64, falling back to object. This behavior is deprecated. In a future version, when a dtype is passed to 'DataFrame', either all columns will be cast to that dtype, or a TypeError will be raised.\n",
      "  Subcat_list.append(pd.DataFrame(lst, columns =['Subcategory','Product Name', 'Brand', 'price'], dtype = float))\n"
     ]
    },
    {
     "name": "stdout",
     "output_type": "stream",
     "text": [
      "bread 4 81\n",
      "24\n",
      "24\n",
      "24\n",
      "9\n"
     ]
    },
    {
     "name": "stderr",
     "output_type": "stream",
     "text": [
      "/var/folders/_7/j6gsg7kd1vxgq31_w637bnh00000gn/T/ipykernel_48078/893620319.py:76: FutureWarning: Could not cast to float64, falling back to object. This behavior is deprecated. In a future version, when a dtype is passed to 'DataFrame', either all columns will be cast to that dtype, or a TypeError will be raised.\n",
      "  Subcat_list.append(pd.DataFrame(lst, columns =['Subcategory','Product Name', 'Brand', 'price'], dtype = float))\n"
     ]
    },
    {
     "name": "stdout",
     "output_type": "stream",
     "text": [
      "tortillas-flatbread 1 20\n",
      "20\n"
     ]
    },
    {
     "name": "stderr",
     "output_type": "stream",
     "text": [
      "/var/folders/_7/j6gsg7kd1vxgq31_w637bnh00000gn/T/ipykernel_48078/893620319.py:76: FutureWarning: Could not cast to float64, falling back to object. This behavior is deprecated. In a future version, when a dtype is passed to 'DataFrame', either all columns will be cast to that dtype, or a TypeError will be raised.\n",
      "  Subcat_list.append(pd.DataFrame(lst, columns =['Subcategory','Product Name', 'Brand', 'price'], dtype = float))\n"
     ]
    },
    {
     "name": "stdout",
     "output_type": "stream",
     "text": [
      "bakery-desserts 3 50\n",
      "24\n",
      "24\n",
      "2\n"
     ]
    },
    {
     "name": "stderr",
     "output_type": "stream",
     "text": [
      "/var/folders/_7/j6gsg7kd1vxgq31_w637bnh00000gn/T/ipykernel_48078/893620319.py:76: FutureWarning: Could not cast to float64, falling back to object. This behavior is deprecated. In a future version, when a dtype is passed to 'DataFrame', either all columns will be cast to that dtype, or a TypeError will be raised.\n",
      "  Subcat_list.append(pd.DataFrame(lst, columns =['Subcategory','Product Name', 'Brand', 'price'], dtype = float))\n"
     ]
    },
    {
     "name": "stdout",
     "output_type": "stream",
     "text": [
      "chips-crackers-popcorn 8 170\n",
      "24\n",
      "24\n",
      "24\n",
      "24\n",
      "24\n",
      "24\n",
      "24\n",
      "2\n"
     ]
    },
    {
     "name": "stderr",
     "output_type": "stream",
     "text": [
      "/var/folders/_7/j6gsg7kd1vxgq31_w637bnh00000gn/T/ipykernel_48078/893620319.py:76: FutureWarning: Could not cast to float64, falling back to object. This behavior is deprecated. In a future version, when a dtype is passed to 'DataFrame', either all columns will be cast to that dtype, or a TypeError will be raised.\n",
      "  Subcat_list.append(pd.DataFrame(lst, columns =['Subcategory','Product Name', 'Brand', 'price'], dtype = float))\n"
     ]
    },
    {
     "name": "stdout",
     "output_type": "stream",
     "text": [
      "cookies-sweets 10 232\n",
      "24\n",
      "24\n",
      "24\n",
      "24\n",
      "24\n",
      "24\n",
      "24\n",
      "24\n",
      "24\n",
      "16\n"
     ]
    },
    {
     "name": "stderr",
     "output_type": "stream",
     "text": [
      "/var/folders/_7/j6gsg7kd1vxgq31_w637bnh00000gn/T/ipykernel_48078/893620319.py:76: FutureWarning: Could not cast to float64, falling back to object. This behavior is deprecated. In a future version, when a dtype is passed to 'DataFrame', either all columns will be cast to that dtype, or a TypeError will be raised.\n",
      "  Subcat_list.append(pd.DataFrame(lst, columns =['Subcategory','Product Name', 'Brand', 'price'], dtype = float))\n"
     ]
    },
    {
     "name": "stdout",
     "output_type": "stream",
     "text": [
      "nuts-dried-fruit 4 79\n",
      "24\n",
      "24\n",
      "24\n",
      "7\n"
     ]
    },
    {
     "name": "stderr",
     "output_type": "stream",
     "text": [
      "/var/folders/_7/j6gsg7kd1vxgq31_w637bnh00000gn/T/ipykernel_48078/893620319.py:76: FutureWarning: Could not cast to float64, falling back to object. This behavior is deprecated. In a future version, when a dtype is passed to 'DataFrame', either all columns will be cast to that dtype, or a TypeError will be raised.\n",
      "  Subcat_list.append(pd.DataFrame(lst, columns =['Subcategory','Product Name', 'Brand', 'price'], dtype = float))\n"
     ]
    },
    {
     "name": "stdout",
     "output_type": "stream",
     "text": [
      "trail-mix 1 18\n",
      "18\n"
     ]
    },
    {
     "name": "stderr",
     "output_type": "stream",
     "text": [
      "/var/folders/_7/j6gsg7kd1vxgq31_w637bnh00000gn/T/ipykernel_48078/893620319.py:76: FutureWarning: Could not cast to float64, falling back to object. This behavior is deprecated. In a future version, when a dtype is passed to 'DataFrame', either all columns will be cast to that dtype, or a TypeError will be raised.\n",
      "  Subcat_list.append(pd.DataFrame(lst, columns =['Subcategory','Product Name', 'Brand', 'price'], dtype = float))\n"
     ]
    },
    {
     "name": "stdout",
     "output_type": "stream",
     "text": [
      "jerky-dried-meat 1 18\n",
      "18\n"
     ]
    },
    {
     "name": "stderr",
     "output_type": "stream",
     "text": [
      "/var/folders/_7/j6gsg7kd1vxgq31_w637bnh00000gn/T/ipykernel_48078/893620319.py:76: FutureWarning: Could not cast to float64, falling back to object. This behavior is deprecated. In a future version, when a dtype is passed to 'DataFrame', either all columns will be cast to that dtype, or a TypeError will be raised.\n",
      "  Subcat_list.append(pd.DataFrame(lst, columns =['Subcategory','Product Name', 'Brand', 'price'], dtype = float))\n"
     ]
    },
    {
     "name": "stdout",
     "output_type": "stream",
     "text": [
      "cereal-oatmeal 3 67\n",
      "24\n",
      "24\n",
      "19\n"
     ]
    },
    {
     "name": "stderr",
     "output_type": "stream",
     "text": [
      "/var/folders/_7/j6gsg7kd1vxgq31_w637bnh00000gn/T/ipykernel_48078/893620319.py:76: FutureWarning: Could not cast to float64, falling back to object. This behavior is deprecated. In a future version, when a dtype is passed to 'DataFrame', either all columns will be cast to that dtype, or a TypeError will be raised.\n",
      "  Subcat_list.append(pd.DataFrame(lst, columns =['Subcategory','Product Name', 'Brand', 'price'], dtype = float))\n"
     ]
    },
    {
     "name": "stdout",
     "output_type": "stream",
     "text": [
      "protein-granola-snack-bars 4 74\n",
      "24\n",
      "24\n",
      "24\n",
      "2\n"
     ]
    },
    {
     "name": "stderr",
     "output_type": "stream",
     "text": [
      "/var/folders/_7/j6gsg7kd1vxgq31_w637bnh00000gn/T/ipykernel_48078/893620319.py:76: FutureWarning: Could not cast to float64, falling back to object. This behavior is deprecated. In a future version, when a dtype is passed to 'DataFrame', either all columns will be cast to that dtype, or a TypeError will be raised.\n",
      "  Subcat_list.append(pd.DataFrame(lst, columns =['Subcategory','Product Name', 'Brand', 'price'], dtype = float))\n"
     ]
    },
    {
     "name": "stdout",
     "output_type": "stream",
     "text": [
      "breakfast-biscuits-toaster-pastries 1 7\n",
      "7\n"
     ]
    },
    {
     "name": "stderr",
     "output_type": "stream",
     "text": [
      "/var/folders/_7/j6gsg7kd1vxgq31_w637bnh00000gn/T/ipykernel_48078/893620319.py:76: FutureWarning: Could not cast to float64, falling back to object. This behavior is deprecated. In a future version, when a dtype is passed to 'DataFrame', either all columns will be cast to that dtype, or a TypeError will be raised.\n",
      "  Subcat_list.append(pd.DataFrame(lst, columns =['Subcategory','Product Name', 'Brand', 'price'], dtype = float))\n"
     ]
    },
    {
     "name": "stdout",
     "output_type": "stream",
     "text": [
      "canned-foods 5 115\n",
      "24\n",
      "24\n",
      "24\n",
      "24\n",
      "19\n"
     ]
    },
    {
     "name": "stderr",
     "output_type": "stream",
     "text": [
      "/var/folders/_7/j6gsg7kd1vxgq31_w637bnh00000gn/T/ipykernel_48078/893620319.py:76: FutureWarning: Could not cast to float64, falling back to object. This behavior is deprecated. In a future version, when a dtype is passed to 'DataFrame', either all columns will be cast to that dtype, or a TypeError will be raised.\n",
      "  Subcat_list.append(pd.DataFrame(lst, columns =['Subcategory','Product Name', 'Brand', 'price'], dtype = float))\n"
     ]
    },
    {
     "name": "stdout",
     "output_type": "stream",
     "text": [
      "oils-vinegars 2 28\n",
      "24\n",
      "4\n"
     ]
    },
    {
     "name": "stderr",
     "output_type": "stream",
     "text": [
      "/var/folders/_7/j6gsg7kd1vxgq31_w637bnh00000gn/T/ipykernel_48078/893620319.py:76: FutureWarning: Could not cast to float64, falling back to object. This behavior is deprecated. In a future version, when a dtype is passed to 'DataFrame', either all columns will be cast to that dtype, or a TypeError will be raised.\n",
      "  Subcat_list.append(pd.DataFrame(lst, columns =['Subcategory','Product Name', 'Brand', 'price'], dtype = float))\n"
     ]
    },
    {
     "name": "stdout",
     "output_type": "stream",
     "text": [
      "baking-supplies-ingredients 4 81\n",
      "24\n",
      "24\n",
      "24\n",
      "9\n"
     ]
    },
    {
     "name": "stderr",
     "output_type": "stream",
     "text": [
      "/var/folders/_7/j6gsg7kd1vxgq31_w637bnh00000gn/T/ipykernel_48078/893620319.py:76: FutureWarning: Could not cast to float64, falling back to object. This behavior is deprecated. In a future version, when a dtype is passed to 'DataFrame', either all columns will be cast to that dtype, or a TypeError will be raised.\n",
      "  Subcat_list.append(pd.DataFrame(lst, columns =['Subcategory','Product Name', 'Brand', 'price'], dtype = float))\n"
     ]
    },
    {
     "name": "stdout",
     "output_type": "stream",
     "text": [
      "condiments-dressings 5 114\n",
      "24\n",
      "24\n",
      "24\n",
      "24\n",
      "18\n"
     ]
    },
    {
     "name": "stderr",
     "output_type": "stream",
     "text": [
      "/var/folders/_7/j6gsg7kd1vxgq31_w637bnh00000gn/T/ipykernel_48078/893620319.py:76: FutureWarning: Could not cast to float64, falling back to object. This behavior is deprecated. In a future version, when a dtype is passed to 'DataFrame', either all columns will be cast to that dtype, or a TypeError will be raised.\n",
      "  Subcat_list.append(pd.DataFrame(lst, columns =['Subcategory','Product Name', 'Brand', 'price'], dtype = float))\n"
     ]
    },
    {
     "name": "stdout",
     "output_type": "stream",
     "text": [
      "sauces-salsa 3 56\n",
      "24\n",
      "24\n",
      "8\n"
     ]
    },
    {
     "name": "stderr",
     "output_type": "stream",
     "text": [
      "/var/folders/_7/j6gsg7kd1vxgq31_w637bnh00000gn/T/ipykernel_48078/893620319.py:76: FutureWarning: Could not cast to float64, falling back to object. This behavior is deprecated. In a future version, when a dtype is passed to 'DataFrame', either all columns will be cast to that dtype, or a TypeError will be raised.\n",
      "  Subcat_list.append(pd.DataFrame(lst, columns =['Subcategory','Product Name', 'Brand', 'price'], dtype = float))\n"
     ]
    },
    {
     "name": "stdout",
     "output_type": "stream",
     "text": [
      "jelly-honey-nut-butters 2 25\n",
      "24\n",
      "1\n"
     ]
    },
    {
     "name": "stderr",
     "output_type": "stream",
     "text": [
      "/var/folders/_7/j6gsg7kd1vxgq31_w637bnh00000gn/T/ipykernel_48078/893620319.py:76: FutureWarning: Could not cast to float64, falling back to object. This behavior is deprecated. In a future version, when a dtype is passed to 'DataFrame', either all columns will be cast to that dtype, or a TypeError will be raised.\n",
      "  Subcat_list.append(pd.DataFrame(lst, columns =['Subcategory','Product Name', 'Brand', 'price'], dtype = float))\n"
     ]
    },
    {
     "name": "stdout",
     "output_type": "stream",
     "text": [
      "spices 4 77\n",
      "24\n",
      "24\n",
      "24\n",
      "5\n"
     ]
    },
    {
     "name": "stderr",
     "output_type": "stream",
     "text": [
      "/var/folders/_7/j6gsg7kd1vxgq31_w637bnh00000gn/T/ipykernel_48078/893620319.py:76: FutureWarning: Could not cast to float64, falling back to object. This behavior is deprecated. In a future version, when a dtype is passed to 'DataFrame', either all columns will be cast to that dtype, or a TypeError will be raised.\n",
      "  Subcat_list.append(pd.DataFrame(lst, columns =['Subcategory','Product Name', 'Brand', 'price'], dtype = float))\n"
     ]
    },
    {
     "name": "stdout",
     "output_type": "stream",
     "text": [
      "pasta-rice-grains 3 60\n",
      "24\n",
      "24\n",
      "12\n"
     ]
    },
    {
     "name": "stderr",
     "output_type": "stream",
     "text": [
      "/var/folders/_7/j6gsg7kd1vxgq31_w637bnh00000gn/T/ipykernel_48078/893620319.py:76: FutureWarning: Could not cast to float64, falling back to object. This behavior is deprecated. In a future version, when a dtype is passed to 'DataFrame', either all columns will be cast to that dtype, or a TypeError will be raised.\n",
      "  Subcat_list.append(pd.DataFrame(lst, columns =['Subcategory','Product Name', 'Brand', 'price'], dtype = float))\n"
     ]
    },
    {
     "name": "stdout",
     "output_type": "stream",
     "text": [
      "boxed-meals-side-dishes 3 59\n",
      "24\n",
      "24\n",
      "11\n"
     ]
    },
    {
     "name": "stderr",
     "output_type": "stream",
     "text": [
      "/var/folders/_7/j6gsg7kd1vxgq31_w637bnh00000gn/T/ipykernel_48078/893620319.py:76: FutureWarning: Could not cast to float64, falling back to object. This behavior is deprecated. In a future version, when a dtype is passed to 'DataFrame', either all columns will be cast to that dtype, or a TypeError will be raised.\n",
      "  Subcat_list.append(pd.DataFrame(lst, columns =['Subcategory','Product Name', 'Brand', 'price'], dtype = float))\n"
     ]
    },
    {
     "name": "stdout",
     "output_type": "stream",
     "text": [
      "soups-broth 3 57\n",
      "24\n",
      "24\n",
      "9\n"
     ]
    },
    {
     "name": "stderr",
     "output_type": "stream",
     "text": [
      "/var/folders/_7/j6gsg7kd1vxgq31_w637bnh00000gn/T/ipykernel_48078/893620319.py:76: FutureWarning: Could not cast to float64, falling back to object. This behavior is deprecated. In a future version, when a dtype is passed to 'DataFrame', either all columns will be cast to that dtype, or a TypeError will be raised.\n",
      "  Subcat_list.append(pd.DataFrame(lst, columns =['Subcategory','Product Name', 'Brand', 'price'], dtype = float))\n"
     ]
    },
    {
     "name": "stdout",
     "output_type": "stream",
     "text": [
      "water 4 75\n",
      "24\n",
      "24\n",
      "24\n",
      "3\n"
     ]
    },
    {
     "name": "stderr",
     "output_type": "stream",
     "text": [
      "/var/folders/_7/j6gsg7kd1vxgq31_w637bnh00000gn/T/ipykernel_48078/893620319.py:76: FutureWarning: Could not cast to float64, falling back to object. This behavior is deprecated. In a future version, when a dtype is passed to 'DataFrame', either all columns will be cast to that dtype, or a TypeError will be raised.\n",
      "  Subcat_list.append(pd.DataFrame(lst, columns =['Subcategory','Product Name', 'Brand', 'price'], dtype = float))\n"
     ]
    },
    {
     "name": "stdout",
     "output_type": "stream",
     "text": [
      "coffee 3 58\n",
      "24\n",
      "24\n",
      "10\n"
     ]
    },
    {
     "name": "stderr",
     "output_type": "stream",
     "text": [
      "/var/folders/_7/j6gsg7kd1vxgq31_w637bnh00000gn/T/ipykernel_48078/893620319.py:76: FutureWarning: Could not cast to float64, falling back to object. This behavior is deprecated. In a future version, when a dtype is passed to 'DataFrame', either all columns will be cast to that dtype, or a TypeError will be raised.\n",
      "  Subcat_list.append(pd.DataFrame(lst, columns =['Subcategory','Product Name', 'Brand', 'price'], dtype = float))\n"
     ]
    },
    {
     "name": "stdout",
     "output_type": "stream",
     "text": [
      "juice-cider 5 103\n",
      "24\n",
      "24\n",
      "24\n",
      "24\n",
      "7\n"
     ]
    },
    {
     "name": "stderr",
     "output_type": "stream",
     "text": [
      "/var/folders/_7/j6gsg7kd1vxgq31_w637bnh00000gn/T/ipykernel_48078/893620319.py:76: FutureWarning: Could not cast to float64, falling back to object. This behavior is deprecated. In a future version, when a dtype is passed to 'DataFrame', either all columns will be cast to that dtype, or a TypeError will be raised.\n",
      "  Subcat_list.append(pd.DataFrame(lst, columns =['Subcategory','Product Name', 'Brand', 'price'], dtype = float))\n"
     ]
    },
    {
     "name": "stdout",
     "output_type": "stream",
     "text": [
      "sports-drinks 2 37\n",
      "24\n",
      "13\n"
     ]
    },
    {
     "name": "stderr",
     "output_type": "stream",
     "text": [
      "/var/folders/_7/j6gsg7kd1vxgq31_w637bnh00000gn/T/ipykernel_48078/893620319.py:76: FutureWarning: Could not cast to float64, falling back to object. This behavior is deprecated. In a future version, when a dtype is passed to 'DataFrame', either all columns will be cast to that dtype, or a TypeError will be raised.\n",
      "  Subcat_list.append(pd.DataFrame(lst, columns =['Subcategory','Product Name', 'Brand', 'price'], dtype = float))\n"
     ]
    },
    {
     "name": "stdout",
     "output_type": "stream",
     "text": [
      "soda-pop 2 29\n",
      "24\n",
      "5\n"
     ]
    },
    {
     "name": "stderr",
     "output_type": "stream",
     "text": [
      "/var/folders/_7/j6gsg7kd1vxgq31_w637bnh00000gn/T/ipykernel_48078/893620319.py:76: FutureWarning: Could not cast to float64, falling back to object. This behavior is deprecated. In a future version, when a dtype is passed to 'DataFrame', either all columns will be cast to that dtype, or a TypeError will be raised.\n",
      "  Subcat_list.append(pd.DataFrame(lst, columns =['Subcategory','Product Name', 'Brand', 'price'], dtype = float))\n"
     ]
    },
    {
     "name": "stdout",
     "output_type": "stream",
     "text": [
      "drink-mixes 1 22\n",
      "22\n"
     ]
    },
    {
     "name": "stderr",
     "output_type": "stream",
     "text": [
      "/var/folders/_7/j6gsg7kd1vxgq31_w637bnh00000gn/T/ipykernel_48078/893620319.py:76: FutureWarning: Could not cast to float64, falling back to object. This behavior is deprecated. In a future version, when a dtype is passed to 'DataFrame', either all columns will be cast to that dtype, or a TypeError will be raised.\n",
      "  Subcat_list.append(pd.DataFrame(lst, columns =['Subcategory','Product Name', 'Brand', 'price'], dtype = float))\n"
     ]
    },
    {
     "name": "stdout",
     "output_type": "stream",
     "text": [
      "tea 2 27\n",
      "24\n",
      "3\n"
     ]
    },
    {
     "name": "stderr",
     "output_type": "stream",
     "text": [
      "/var/folders/_7/j6gsg7kd1vxgq31_w637bnh00000gn/T/ipykernel_48078/893620319.py:76: FutureWarning: Could not cast to float64, falling back to object. This behavior is deprecated. In a future version, when a dtype is passed to 'DataFrame', either all columns will be cast to that dtype, or a TypeError will be raised.\n",
      "  Subcat_list.append(pd.DataFrame(lst, columns =['Subcategory','Product Name', 'Brand', 'price'], dtype = float))\n"
     ]
    },
    {
     "name": "stdout",
     "output_type": "stream",
     "text": [
      "protein-shakes 1 5\n",
      "5\n"
     ]
    },
    {
     "name": "stderr",
     "output_type": "stream",
     "text": [
      "/var/folders/_7/j6gsg7kd1vxgq31_w637bnh00000gn/T/ipykernel_48078/893620319.py:76: FutureWarning: Could not cast to float64, falling back to object. This behavior is deprecated. In a future version, when a dtype is passed to 'DataFrame', either all columns will be cast to that dtype, or a TypeError will be raised.\n",
      "  Subcat_list.append(pd.DataFrame(lst, columns =['Subcategory','Product Name', 'Brand', 'price'], dtype = float))\n"
     ]
    },
    {
     "name": "stdout",
     "output_type": "stream",
     "text": [
      "baby-food-snacks 1 20\n",
      "20\n"
     ]
    },
    {
     "name": "stderr",
     "output_type": "stream",
     "text": [
      "/var/folders/_7/j6gsg7kd1vxgq31_w637bnh00000gn/T/ipykernel_48078/893620319.py:76: FutureWarning: Could not cast to float64, falling back to object. This behavior is deprecated. In a future version, when a dtype is passed to 'DataFrame', either all columns will be cast to that dtype, or a TypeError will be raised.\n",
      "  Subcat_list.append(pd.DataFrame(lst, columns =['Subcategory','Product Name', 'Brand', 'price'], dtype = float))\n"
     ]
    },
    {
     "name": "stdout",
     "output_type": "stream",
     "text": [
      "diapers-wipes-wash 1 7\n",
      "7\n"
     ]
    },
    {
     "name": "stderr",
     "output_type": "stream",
     "text": [
      "/var/folders/_7/j6gsg7kd1vxgq31_w637bnh00000gn/T/ipykernel_48078/893620319.py:76: FutureWarning: Could not cast to float64, falling back to object. This behavior is deprecated. In a future version, when a dtype is passed to 'DataFrame', either all columns will be cast to that dtype, or a TypeError will be raised.\n",
      "  Subcat_list.append(pd.DataFrame(lst, columns =['Subcategory','Product Name', 'Brand', 'price'], dtype = float))\n"
     ]
    },
    {
     "name": "stdout",
     "output_type": "stream",
     "text": [
      "dog-food-treats 2 25\n",
      "24\n",
      "1\n"
     ]
    },
    {
     "name": "stderr",
     "output_type": "stream",
     "text": [
      "/var/folders/_7/j6gsg7kd1vxgq31_w637bnh00000gn/T/ipykernel_48078/893620319.py:76: FutureWarning: Could not cast to float64, falling back to object. This behavior is deprecated. In a future version, when a dtype is passed to 'DataFrame', either all columns will be cast to that dtype, or a TypeError will be raised.\n",
      "  Subcat_list.append(pd.DataFrame(lst, columns =['Subcategory','Product Name', 'Brand', 'price'], dtype = float))\n"
     ]
    },
    {
     "name": "stdout",
     "output_type": "stream",
     "text": [
      "cat-food-treats 1 11\n",
      "11\n"
     ]
    },
    {
     "name": "stderr",
     "output_type": "stream",
     "text": [
      "/var/folders/_7/j6gsg7kd1vxgq31_w637bnh00000gn/T/ipykernel_48078/893620319.py:76: FutureWarning: Could not cast to float64, falling back to object. This behavior is deprecated. In a future version, when a dtype is passed to 'DataFrame', either all columns will be cast to that dtype, or a TypeError will be raised.\n",
      "  Subcat_list.append(pd.DataFrame(lst, columns =['Subcategory','Product Name', 'Brand', 'price'], dtype = float))\n"
     ]
    },
    {
     "name": "stdout",
     "output_type": "stream",
     "text": [
      "paper-plastic-products 3 56\n",
      "24\n",
      "24\n",
      "8\n"
     ]
    },
    {
     "name": "stderr",
     "output_type": "stream",
     "text": [
      "/var/folders/_7/j6gsg7kd1vxgq31_w637bnh00000gn/T/ipykernel_48078/893620319.py:76: FutureWarning: Could not cast to float64, falling back to object. This behavior is deprecated. In a future version, when a dtype is passed to 'DataFrame', either all columns will be cast to that dtype, or a TypeError will be raised.\n",
      "  Subcat_list.append(pd.DataFrame(lst, columns =['Subcategory','Product Name', 'Brand', 'price'], dtype = float))\n"
     ]
    },
    {
     "name": "stdout",
     "output_type": "stream",
     "text": [
      "dishwashing-cleaning-supplies 2 29\n",
      "24\n",
      "5\n"
     ]
    },
    {
     "name": "stderr",
     "output_type": "stream",
     "text": [
      "/var/folders/_7/j6gsg7kd1vxgq31_w637bnh00000gn/T/ipykernel_48078/893620319.py:76: FutureWarning: Could not cast to float64, falling back to object. This behavior is deprecated. In a future version, when a dtype is passed to 'DataFrame', either all columns will be cast to that dtype, or a TypeError will be raised.\n",
      "  Subcat_list.append(pd.DataFrame(lst, columns =['Subcategory','Product Name', 'Brand', 'price'], dtype = float))\n"
     ]
    },
    {
     "name": "stdout",
     "output_type": "stream",
     "text": [
      "candles-air-fresheners 1 13\n",
      "13\n"
     ]
    },
    {
     "name": "stderr",
     "output_type": "stream",
     "text": [
      "/var/folders/_7/j6gsg7kd1vxgq31_w637bnh00000gn/T/ipykernel_48078/893620319.py:76: FutureWarning: Could not cast to float64, falling back to object. This behavior is deprecated. In a future version, when a dtype is passed to 'DataFrame', either all columns will be cast to that dtype, or a TypeError will be raised.\n",
      "  Subcat_list.append(pd.DataFrame(lst, columns =['Subcategory','Product Name', 'Brand', 'price'], dtype = float))\n"
     ]
    },
    {
     "name": "stdout",
     "output_type": "stream",
     "text": [
      "laundry 2 44\n",
      "24\n",
      "20\n"
     ]
    },
    {
     "name": "stderr",
     "output_type": "stream",
     "text": [
      "/var/folders/_7/j6gsg7kd1vxgq31_w637bnh00000gn/T/ipykernel_48078/893620319.py:76: FutureWarning: Could not cast to float64, falling back to object. This behavior is deprecated. In a future version, when a dtype is passed to 'DataFrame', either all columns will be cast to that dtype, or a TypeError will be raised.\n",
      "  Subcat_list.append(pd.DataFrame(lst, columns =['Subcategory','Product Name', 'Brand', 'price'], dtype = float))\n"
     ]
    },
    {
     "name": "stdout",
     "output_type": "stream",
     "text": [
      "school-office-supplies 1 2\n",
      "2\n"
     ]
    },
    {
     "name": "stderr",
     "output_type": "stream",
     "text": [
      "/var/folders/_7/j6gsg7kd1vxgq31_w637bnh00000gn/T/ipykernel_48078/893620319.py:76: FutureWarning: Could not cast to float64, falling back to object. This behavior is deprecated. In a future version, when a dtype is passed to 'DataFrame', either all columns will be cast to that dtype, or a TypeError will be raised.\n",
      "  Subcat_list.append(pd.DataFrame(lst, columns =['Subcategory','Product Name', 'Brand', 'price'], dtype = float))\n"
     ]
    },
    {
     "name": "stdout",
     "output_type": "stream",
     "text": [
      "health-wellness 1 16\n",
      "16\n"
     ]
    },
    {
     "name": "stderr",
     "output_type": "stream",
     "text": [
      "/var/folders/_7/j6gsg7kd1vxgq31_w637bnh00000gn/T/ipykernel_48078/893620319.py:76: FutureWarning: Could not cast to float64, falling back to object. This behavior is deprecated. In a future version, when a dtype is passed to 'DataFrame', either all columns will be cast to that dtype, or a TypeError will be raised.\n",
      "  Subcat_list.append(pd.DataFrame(lst, columns =['Subcategory','Product Name', 'Brand', 'price'], dtype = float))\n"
     ]
    },
    {
     "name": "stdout",
     "output_type": "stream",
     "text": [
      "body-skin-care 2 31\n",
      "24\n",
      "7\n"
     ]
    },
    {
     "name": "stderr",
     "output_type": "stream",
     "text": [
      "/var/folders/_7/j6gsg7kd1vxgq31_w637bnh00000gn/T/ipykernel_48078/893620319.py:76: FutureWarning: Could not cast to float64, falling back to object. This behavior is deprecated. In a future version, when a dtype is passed to 'DataFrame', either all columns will be cast to that dtype, or a TypeError will be raised.\n",
      "  Subcat_list.append(pd.DataFrame(lst, columns =['Subcategory','Product Name', 'Brand', 'price'], dtype = float))\n"
     ]
    },
    {
     "name": "stdout",
     "output_type": "stream",
     "text": [
      "hair-care 1 8\n",
      "8\n"
     ]
    },
    {
     "name": "stderr",
     "output_type": "stream",
     "text": [
      "/var/folders/_7/j6gsg7kd1vxgq31_w637bnh00000gn/T/ipykernel_48078/893620319.py:76: FutureWarning: Could not cast to float64, falling back to object. This behavior is deprecated. In a future version, when a dtype is passed to 'DataFrame', either all columns will be cast to that dtype, or a TypeError will be raised.\n",
      "  Subcat_list.append(pd.DataFrame(lst, columns =['Subcategory','Product Name', 'Brand', 'price'], dtype = float))\n"
     ]
    },
    {
     "name": "stdout",
     "output_type": "stream",
     "text": [
      "feminine-care 1 9\n",
      "9\n"
     ]
    },
    {
     "name": "stderr",
     "output_type": "stream",
     "text": [
      "/var/folders/_7/j6gsg7kd1vxgq31_w637bnh00000gn/T/ipykernel_48078/893620319.py:76: FutureWarning: Could not cast to float64, falling back to object. This behavior is deprecated. In a future version, when a dtype is passed to 'DataFrame', either all columns will be cast to that dtype, or a TypeError will be raised.\n",
      "  Subcat_list.append(pd.DataFrame(lst, columns =['Subcategory','Product Name', 'Brand', 'price'], dtype = float))\n"
     ]
    },
    {
     "name": "stdout",
     "output_type": "stream",
     "text": [
      "oral-care 1 4\n",
      "4\n"
     ]
    },
    {
     "name": "stderr",
     "output_type": "stream",
     "text": [
      "/var/folders/_7/j6gsg7kd1vxgq31_w637bnh00000gn/T/ipykernel_48078/893620319.py:76: FutureWarning: Could not cast to float64, falling back to object. This behavior is deprecated. In a future version, when a dtype is passed to 'DataFrame', either all columns will be cast to that dtype, or a TypeError will be raised.\n",
      "  Subcat_list.append(pd.DataFrame(lst, columns =['Subcategory','Product Name', 'Brand', 'price'], dtype = float))\n"
     ]
    },
    {
     "name": "stdout",
     "output_type": "stream",
     "text": [
      "home-decor 18 421\n",
      "24\n",
      "24\n",
      "24\n",
      "24\n",
      "24\n",
      "24\n",
      "24\n",
      "24\n",
      "24\n",
      "24\n",
      "24\n",
      "24\n",
      "24\n",
      "24\n",
      "24\n",
      "24\n",
      "24\n",
      "13\n"
     ]
    },
    {
     "name": "stderr",
     "output_type": "stream",
     "text": [
      "/var/folders/_7/j6gsg7kd1vxgq31_w637bnh00000gn/T/ipykernel_48078/893620319.py:76: FutureWarning: Could not cast to float64, falling back to object. This behavior is deprecated. In a future version, when a dtype is passed to 'DataFrame', either all columns will be cast to that dtype, or a TypeError will be raised.\n",
      "  Subcat_list.append(pd.DataFrame(lst, columns =['Subcategory','Product Name', 'Brand', 'price'], dtype = float))\n"
     ]
    },
    {
     "name": "stdout",
     "output_type": "stream",
     "text": [
      "kitchen-supplies 11 241\n",
      "24\n",
      "24\n",
      "24\n",
      "24\n",
      "24\n",
      "24\n",
      "24\n",
      "24\n",
      "24\n",
      "24\n",
      "1\n"
     ]
    },
    {
     "name": "stderr",
     "output_type": "stream",
     "text": [
      "/var/folders/_7/j6gsg7kd1vxgq31_w637bnh00000gn/T/ipykernel_48078/893620319.py:76: FutureWarning: Could not cast to float64, falling back to object. This behavior is deprecated. In a future version, when a dtype is passed to 'DataFrame', either all columns will be cast to that dtype, or a TypeError will be raised.\n",
      "  Subcat_list.append(pd.DataFrame(lst, columns =['Subcategory','Product Name', 'Brand', 'price'], dtype = float))\n"
     ]
    },
    {
     "name": "stdout",
     "output_type": "stream",
     "text": [
      "household-items 1 6\n",
      "6\n"
     ]
    },
    {
     "name": "stderr",
     "output_type": "stream",
     "text": [
      "/var/folders/_7/j6gsg7kd1vxgq31_w637bnh00000gn/T/ipykernel_48078/893620319.py:76: FutureWarning: Could not cast to float64, falling back to object. This behavior is deprecated. In a future version, when a dtype is passed to 'DataFrame', either all columns will be cast to that dtype, or a TypeError will be raised.\n",
      "  Subcat_list.append(pd.DataFrame(lst, columns =['Subcategory','Product Name', 'Brand', 'price'], dtype = float))\n"
     ]
    },
    {
     "name": "stdout",
     "output_type": "stream",
     "text": [
      "apparel-shoes-accessories 19 455\n",
      "24\n",
      "24\n",
      "24\n",
      "24\n",
      "24\n",
      "24\n",
      "24\n",
      "24\n"
     ]
    }
   ],
   "source": [
    "#### MAIN (WIP)\n",
    "# Go to each Category\n",
    "Main_Page = \"https://new.aldi.us/\"\n",
    "Product_Page = \"https://new.aldi.us/products/\"\n",
    "driver.get(Main_Page)\n",
    "cnt = 0\n",
    "Cat_dict = dict()\n",
    "for cat in Cat_subcat_url_list:\n",
    "    cnt+=1\n",
    "    #(tryyy)# if cnt<14: continue\n",
    "    cat_key,subcat_value = list(cat.items())[0]\n",
    "    driver.get(Product_Page+cat_key)\n",
    "    Subcat_list = []\n",
    "    \n",
    "    for subcat in subcat_value:\n",
    "        ### if subcat=='milk-milk-substitutes' or subcat=='eggs' : continue\n",
    "        ### Navigate to Subcategory product page\n",
    "        driver.get(Product_Page+cat_key+'/'+subcat)\n",
    "        time.sleep(2)\n",
    "        \n",
    "        ### Get Subcategory product cnt and max page\n",
    "        max_page, product_count = get_pages_and_product_count()\n",
    "        print(subcat,max_page,product_count)\n",
    "        time.sleep(1)\n",
    "        \n",
    "        ### Create list to store item info\n",
    "        item_subcategory=[]\n",
    "        item_names=[]\n",
    "        item_brand_names=[]\n",
    "        item_proportions=[]\n",
    "        item_prices=[]\n",
    "        item_details=[]\n",
    "\n",
    "        ### Iterate between each page and products on page\n",
    "        for i in range(1,max_page+1): \n",
    "            ### (tryyyy) ### if i<=5: continue\n",
    "            # wait for website to load\n",
    "            WebDriverWait(driver, 10, poll_frequency=0.5, ignored_exceptions=None)\n",
    "            driver.get(Product_Page+cat_key+'/'+subcat)\n",
    "            # when not in page 1, need to click to navigate to the page\n",
    "            if i!=1 and i<=5:\n",
    "                xpath = \"//div[@class='product-listing-viewer__pagination']//a[contains(@aria-label,'page \"+ str(i) + \"')]\"\n",
    "                driver.find_element(By.XPATH,xpath).click()\n",
    "                WebDriverWait(driver, 30, poll_frequency=0.5, ignored_exceptions=None)\n",
    "            # if pages>5 will not show at first page, need to navigate through clicking pages\n",
    "            elif i>5:\n",
    "                for ii in range(5,i,2):\n",
    "                    time.sleep(2)\n",
    "                    xpath = \"//div[@class='product-listing-viewer__pagination']//a[contains(@aria-label,'page \"+ str(ii) + \"')]\"\n",
    "                    driver.find_element(By.XPATH,xpath).click()\n",
    "                    WebDriverWait(driver, 30, poll_frequency=0.5, ignored_exceptions=None)\n",
    "                time.sleep(3)\n",
    "                xpath = \"//div[@class='product-listing-viewer__pagination']//a[contains(@aria-label,'page \"+ str(i) + \"')]\"\n",
    "                driver.find_element(By.XPATH,xpath).click()\n",
    "                WebDriverWait(driver, 30, poll_frequency=0.5, ignored_exceptions=None)\n",
    "                    \n",
    "            time.sleep(3)   \n",
    "            # count element on page to iterate over products on page\n",
    "            element_cnt = len(driver.find_elements(By.XPATH, \"//div[contains(@class, 'product-teaser-item product-grid__item')]\"))\n",
    "            print(element_cnt)\n",
    "            \n",
    "            brand_lst = driver.find_elements(By.XPATH,\"//div[@class='product-grid']//div[contains(@class,'brandname')]\")\n",
    "            name_list = driver.find_elements(By.XPATH,\"//div[@class='product-grid']//div[contains(@class,'tile__name')]\")\n",
    "            price_list = driver.find_elements(By.XPATH,\"//div[@class='product-grid']//span[contains(@class,'base-price__regular')]\")\n",
    "            \n",
    "            for i in range(element_cnt):\n",
    "                item_subcategory.append(subcat)\n",
    "                item_brand_names.append(brand_lst[i].text)\n",
    "                item_names.append(name_list[i].text)\n",
    "                item_prices.append(price_list[i].text)\n",
    "                \n",
    "\n",
    "        ## Create Pandas table for each subcategory \n",
    "        lst = list(zip(item_subcategory,item_names,item_brand_names,item_prices))\n",
    "        #print(lst)\n",
    "        Subcat_list.append(pd.DataFrame(lst, columns =['Subcategory','Product Name', 'Brand', 'price'], dtype = float))\n",
    "        # file_path=cat_key+'_'+subcat+'.csv'\n",
    "        # #print(file_path)\n",
    "        # pd.DataFrame(lst, columns =['Subcategory','Product Name', 'Brand', 'price'], dtype = float).to_csv(file_path)\n",
    "    \n",
    "    Cat_dict[cat_key]=Subcat_list\n",
    "    time.sleep(1)\n",
    "    "
   ]
  },
  {
   "cell_type": "code",
   "execution_count": 66,
   "id": "ea3c397d-dd76-4a8a-a09d-7eec48d7a8b5",
   "metadata": {
    "tags": []
   },
   "outputs": [],
   "source": [
    "all_df = pd.DataFrame()\n",
    "\n",
    "for k,v in Cat_dict.items():\n",
    "    for subcat_df in v:\n",
    "        subcat_df['Category']=k\n",
    "        all_df = pd.concat([all_df,subcat_df],ignore_index=True)"
   ]
  },
  {
   "cell_type": "code",
   "execution_count": 69,
   "id": "a479a843-97be-4475-8e1d-461d10bd41c4",
   "metadata": {
    "tags": []
   },
   "outputs": [],
   "source": [
    "all_df.to_csv('Documents/23F-Python/Project/Code/ALL_DF.csv')"
   ]
  }
 ],
 "metadata": {
  "kernelspec": {
   "display_name": "Python 3 (ipykernel)",
   "language": "python",
   "name": "python3"
  },
  "language_info": {
   "codemirror_mode": {
    "name": "ipython",
    "version": 3
   },
   "file_extension": ".py",
   "mimetype": "text/x-python",
   "name": "python",
   "nbconvert_exporter": "python",
   "pygments_lexer": "ipython3",
   "version": "3.11.4"
  }
 },
 "nbformat": 4,
 "nbformat_minor": 5
}
